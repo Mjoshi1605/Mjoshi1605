{
 "cells": [
  {
   "cell_type": "code",
   "execution_count": 1,
   "id": "175d571a",
   "metadata": {},
   "outputs": [
    {
     "name": "stdout",
     "output_type": "stream",
     "text": [
      "WARNING:tensorflow:From C:\\Users\\HP\\anaconda3\\Lib\\site-packages\\keras\\src\\losses.py:2976: The name tf.losses.sparse_softmax_cross_entropy is deprecated. Please use tf.compat.v1.losses.sparse_softmax_cross_entropy instead.\n",
      "\n"
     ]
    }
   ],
   "source": [
    "import pandas as pd\n",
    "import numpy as np\n",
    "\n",
    "import tensorflow as tf \n",
    "from tensorflow.keras.preprocessing.text import Tokenizer"
   ]
  },
  {
   "cell_type": "code",
   "execution_count": 2,
   "id": "26a8de19",
   "metadata": {},
   "outputs": [],
   "source": [
    "df = pd.read_json('sarcasm.json', lines= True)"
   ]
  },
  {
   "cell_type": "code",
   "execution_count": 3,
   "id": "2944a02d",
   "metadata": {},
   "outputs": [
    {
     "data": {
      "text/plain": [
       "(28619, 3)"
      ]
     },
     "execution_count": 3,
     "metadata": {},
     "output_type": "execute_result"
    }
   ],
   "source": [
    "df.shape"
   ]
  },
  {
   "cell_type": "code",
   "execution_count": 4,
   "id": "a5d5cf4b",
   "metadata": {},
   "outputs": [
    {
     "data": {
      "text/plain": [
       "'inclement weather prevents liar from getting to work'"
      ]
     },
     "execution_count": 4,
     "metadata": {},
     "output_type": "execute_result"
    }
   ],
   "source": [
    "df['headline'][3]"
   ]
  },
  {
   "cell_type": "code",
   "execution_count": 5,
   "id": "d554e677",
   "metadata": {},
   "outputs": [
    {
     "data": {
      "text/html": [
       "<div>\n",
       "<style scoped>\n",
       "    .dataframe tbody tr th:only-of-type {\n",
       "        vertical-align: middle;\n",
       "    }\n",
       "\n",
       "    .dataframe tbody tr th {\n",
       "        vertical-align: top;\n",
       "    }\n",
       "\n",
       "    .dataframe thead th {\n",
       "        text-align: right;\n",
       "    }\n",
       "</style>\n",
       "<table border=\"1\" class=\"dataframe\">\n",
       "  <thead>\n",
       "    <tr style=\"text-align: right;\">\n",
       "      <th></th>\n",
       "      <th>is_sarcastic</th>\n",
       "      <th>headline</th>\n",
       "      <th>article_link</th>\n",
       "    </tr>\n",
       "  </thead>\n",
       "  <tbody>\n",
       "    <tr>\n",
       "      <th>0</th>\n",
       "      <td>1</td>\n",
       "      <td>thirtysomething scientists unveil doomsday clo...</td>\n",
       "      <td>https://www.theonion.com/thirtysomething-scien...</td>\n",
       "    </tr>\n",
       "    <tr>\n",
       "      <th>1</th>\n",
       "      <td>0</td>\n",
       "      <td>dem rep. totally nails why congress is falling...</td>\n",
       "      <td>https://www.huffingtonpost.com/entry/donna-edw...</td>\n",
       "    </tr>\n",
       "    <tr>\n",
       "      <th>2</th>\n",
       "      <td>0</td>\n",
       "      <td>eat your veggies: 9 deliciously different recipes</td>\n",
       "      <td>https://www.huffingtonpost.com/entry/eat-your-...</td>\n",
       "    </tr>\n",
       "    <tr>\n",
       "      <th>3</th>\n",
       "      <td>1</td>\n",
       "      <td>inclement weather prevents liar from getting t...</td>\n",
       "      <td>https://local.theonion.com/inclement-weather-p...</td>\n",
       "    </tr>\n",
       "    <tr>\n",
       "      <th>4</th>\n",
       "      <td>1</td>\n",
       "      <td>mother comes pretty close to using word 'strea...</td>\n",
       "      <td>https://www.theonion.com/mother-comes-pretty-c...</td>\n",
       "    </tr>\n",
       "    <tr>\n",
       "      <th>...</th>\n",
       "      <td>...</td>\n",
       "      <td>...</td>\n",
       "      <td>...</td>\n",
       "    </tr>\n",
       "    <tr>\n",
       "      <th>28614</th>\n",
       "      <td>1</td>\n",
       "      <td>jews to celebrate rosh hashasha or something</td>\n",
       "      <td>https://www.theonion.com/jews-to-celebrate-ros...</td>\n",
       "    </tr>\n",
       "    <tr>\n",
       "      <th>28615</th>\n",
       "      <td>1</td>\n",
       "      <td>internal affairs investigator disappointed con...</td>\n",
       "      <td>https://local.theonion.com/internal-affairs-in...</td>\n",
       "    </tr>\n",
       "    <tr>\n",
       "      <th>28616</th>\n",
       "      <td>0</td>\n",
       "      <td>the most beautiful acceptance speech this week...</td>\n",
       "      <td>https://www.huffingtonpost.com/entry/andrew-ah...</td>\n",
       "    </tr>\n",
       "    <tr>\n",
       "      <th>28617</th>\n",
       "      <td>1</td>\n",
       "      <td>mars probe destroyed by orbiting spielberg-gat...</td>\n",
       "      <td>https://www.theonion.com/mars-probe-destroyed-...</td>\n",
       "    </tr>\n",
       "    <tr>\n",
       "      <th>28618</th>\n",
       "      <td>1</td>\n",
       "      <td>dad clarifies this not a food stop</td>\n",
       "      <td>https://www.theonion.com/dad-clarifies-this-no...</td>\n",
       "    </tr>\n",
       "  </tbody>\n",
       "</table>\n",
       "<p>28619 rows × 3 columns</p>\n",
       "</div>"
      ],
      "text/plain": [
       "       is_sarcastic                                           headline  \\\n",
       "0                 1  thirtysomething scientists unveil doomsday clo...   \n",
       "1                 0  dem rep. totally nails why congress is falling...   \n",
       "2                 0  eat your veggies: 9 deliciously different recipes   \n",
       "3                 1  inclement weather prevents liar from getting t...   \n",
       "4                 1  mother comes pretty close to using word 'strea...   \n",
       "...             ...                                                ...   \n",
       "28614             1       jews to celebrate rosh hashasha or something   \n",
       "28615             1  internal affairs investigator disappointed con...   \n",
       "28616             0  the most beautiful acceptance speech this week...   \n",
       "28617             1  mars probe destroyed by orbiting spielberg-gat...   \n",
       "28618             1                 dad clarifies this not a food stop   \n",
       "\n",
       "                                            article_link  \n",
       "0      https://www.theonion.com/thirtysomething-scien...  \n",
       "1      https://www.huffingtonpost.com/entry/donna-edw...  \n",
       "2      https://www.huffingtonpost.com/entry/eat-your-...  \n",
       "3      https://local.theonion.com/inclement-weather-p...  \n",
       "4      https://www.theonion.com/mother-comes-pretty-c...  \n",
       "...                                                  ...  \n",
       "28614  https://www.theonion.com/jews-to-celebrate-ros...  \n",
       "28615  https://local.theonion.com/internal-affairs-in...  \n",
       "28616  https://www.huffingtonpost.com/entry/andrew-ah...  \n",
       "28617  https://www.theonion.com/mars-probe-destroyed-...  \n",
       "28618  https://www.theonion.com/dad-clarifies-this-no...  \n",
       "\n",
       "[28619 rows x 3 columns]"
      ]
     },
     "execution_count": 5,
     "metadata": {},
     "output_type": "execute_result"
    }
   ],
   "source": [
    "df"
   ]
  },
  {
   "cell_type": "code",
   "execution_count": 6,
   "id": "7ef07586",
   "metadata": {},
   "outputs": [],
   "source": [
    "sent = ['I am learning Python', 'I am learning Deep Learning', 'I love dogs', 'I love cats' ]"
   ]
  },
  {
   "cell_type": "code",
   "execution_count": 7,
   "id": "6704dc1a",
   "metadata": {},
   "outputs": [
    {
     "data": {
      "text/plain": [
       "'I am learning Deep Learning'"
      ]
     },
     "execution_count": 7,
     "metadata": {},
     "output_type": "execute_result"
    }
   ],
   "source": [
    "sent[1]"
   ]
  },
  {
   "cell_type": "code",
   "execution_count": 8,
   "id": "809754c4",
   "metadata": {},
   "outputs": [
    {
     "data": {
      "text/plain": [
       "list"
      ]
     },
     "execution_count": 8,
     "metadata": {},
     "output_type": "execute_result"
    }
   ],
   "source": [
    "type(sent)"
   ]
  },
  {
   "cell_type": "code",
   "execution_count": 9,
   "id": "398655af",
   "metadata": {},
   "outputs": [
    {
     "data": {
      "text/plain": [
       "['I am learning Python',\n",
       " 'I am learning Deep Learning',\n",
       " 'I love dogs',\n",
       " 'I love cats']"
      ]
     },
     "execution_count": 9,
     "metadata": {},
     "output_type": "execute_result"
    }
   ],
   "source": [
    "sent"
   ]
  },
  {
   "cell_type": "code",
   "execution_count": 10,
   "id": "b61f682e",
   "metadata": {},
   "outputs": [],
   "source": [
    "token  = Tokenizer(10, )"
   ]
  },
  {
   "cell_type": "code",
   "execution_count": 11,
   "id": "d084e2f8",
   "metadata": {},
   "outputs": [],
   "source": [
    "token.fit_on_texts(sent)"
   ]
  },
  {
   "cell_type": "code",
   "execution_count": 12,
   "id": "1edcaf64",
   "metadata": {},
   "outputs": [
    {
     "data": {
      "text/plain": [
       "{'i': 1,\n",
       " 'learning': 2,\n",
       " 'am': 3,\n",
       " 'love': 4,\n",
       " 'python': 5,\n",
       " 'deep': 6,\n",
       " 'dogs': 7,\n",
       " 'cats': 8}"
      ]
     },
     "execution_count": 12,
     "metadata": {},
     "output_type": "execute_result"
    }
   ],
   "source": [
    "token.word_index"
   ]
  },
  {
   "cell_type": "code",
   "execution_count": 13,
   "id": "1e7c391b",
   "metadata": {},
   "outputs": [],
   "source": [
    "sent_seq = token.texts_to_sequences(sent)"
   ]
  },
  {
   "cell_type": "code",
   "execution_count": 14,
   "id": "d3214abd",
   "metadata": {},
   "outputs": [
    {
     "name": "stdout",
     "output_type": "stream",
     "text": [
      "[[1, 3, 2, 5], [1, 3, 2, 6, 2], [1, 4, 7], [1, 4, 8]]\n"
     ]
    }
   ],
   "source": [
    "print(sent_seq)"
   ]
  },
  {
   "cell_type": "code",
   "execution_count": 15,
   "id": "8aa635b4",
   "metadata": {},
   "outputs": [],
   "source": [
    "sent = ['I am learning Python', 'I am learning Deep Learning', 'I love dogs', 'I love cats' ]"
   ]
  },
  {
   "cell_type": "code",
   "execution_count": 16,
   "id": "3db5747f",
   "metadata": {},
   "outputs": [],
   "source": [
    "from tensorflow.keras.preprocessing.sequence import pad_sequences"
   ]
  },
  {
   "cell_type": "code",
   "execution_count": 17,
   "id": "880e86e8",
   "metadata": {},
   "outputs": [],
   "source": [
    "sent_final = pad_sequences( sent_seq, truncating= 'post', padding= 'post', maxlen= 10 )"
   ]
  },
  {
   "cell_type": "code",
   "execution_count": 18,
   "id": "fe4fd8a2",
   "metadata": {},
   "outputs": [
    {
     "data": {
      "text/plain": [
       "array([[1, 3, 2, 5, 0, 0, 0, 0, 0, 0],\n",
       "       [1, 3, 2, 6, 2, 0, 0, 0, 0, 0],\n",
       "       [1, 4, 7, 0, 0, 0, 0, 0, 0, 0],\n",
       "       [1, 4, 8, 0, 0, 0, 0, 0, 0, 0]])"
      ]
     },
     "execution_count": 18,
     "metadata": {},
     "output_type": "execute_result"
    }
   ],
   "source": [
    "sent_final"
   ]
  },
  {
   "cell_type": "markdown",
   "id": "9eac10ff",
   "metadata": {},
   "source": [
    "## Project : Sarcasm Detection"
   ]
  },
  {
   "cell_type": "code",
   "execution_count": 19,
   "id": "afcce44d",
   "metadata": {},
   "outputs": [],
   "source": [
    "# 1. Convert headlines into a list.\n",
    "# 2. Convert all labels into a list\n"
   ]
  },
  {
   "cell_type": "code",
   "execution_count": 20,
   "id": "86f23774",
   "metadata": {},
   "outputs": [
    {
     "data": {
      "text/plain": [
       "(28619, 3)"
      ]
     },
     "execution_count": 20,
     "metadata": {},
     "output_type": "execute_result"
    }
   ],
   "source": [
    "# \n",
    "sentences = []\n",
    "labels    = []\n",
    "\n",
    "df.shape"
   ]
  },
  {
   "cell_type": "code",
   "execution_count": 21,
   "id": "0cf0be35",
   "metadata": {},
   "outputs": [],
   "source": [
    "sentences = df['headline'].to_list()"
   ]
  },
  {
   "cell_type": "code",
   "execution_count": 22,
   "id": "9fa55268",
   "metadata": {},
   "outputs": [],
   "source": [
    "labels = df['is_sarcastic'].to_list()"
   ]
  },
  {
   "cell_type": "code",
   "execution_count": 23,
   "id": "41f08e4f",
   "metadata": {},
   "outputs": [],
   "source": [
    "# Create Training and Testing Datasets   => 90 : 10 "
   ]
  },
  {
   "cell_type": "code",
   "execution_count": 24,
   "id": "98dfdc3a",
   "metadata": {},
   "outputs": [
    {
     "data": {
      "text/plain": [
       "25757"
      ]
     },
     "execution_count": 24,
     "metadata": {},
     "output_type": "execute_result"
    }
   ],
   "source": [
    "train = int(df.shape[0] * 90 / 100)\n",
    "train"
   ]
  },
  {
   "cell_type": "code",
   "execution_count": 25,
   "id": "0b6bb040",
   "metadata": {},
   "outputs": [],
   "source": [
    "# Training Dataset\n",
    "sentences_train = sentences[ : train]\n",
    "labels_train    = labels[ : train]"
   ]
  },
  {
   "cell_type": "code",
   "execution_count": 26,
   "id": "63c3584e",
   "metadata": {},
   "outputs": [],
   "source": [
    "# Testing Dataset\n",
    "\n",
    "sentences_test = sentences[train : ]\n",
    "labels_test   = labels[train : ]"
   ]
  },
  {
   "cell_type": "code",
   "execution_count": 27,
   "id": "12d67b74",
   "metadata": {},
   "outputs": [],
   "source": [
    "# Create Word Index"
   ]
  },
  {
   "cell_type": "code",
   "execution_count": 28,
   "id": "1b312edc",
   "metadata": {},
   "outputs": [],
   "source": [
    "token = Tokenizer(num_words= 10000, oov_token= 'UNK')"
   ]
  },
  {
   "cell_type": "code",
   "execution_count": 29,
   "id": "ed65a611",
   "metadata": {},
   "outputs": [],
   "source": [
    "token.fit_on_texts(sentences_train)"
   ]
  },
  {
   "cell_type": "code",
   "execution_count": 30,
   "id": "b465cc84",
   "metadata": {},
   "outputs": [],
   "source": [
    "# token.word_index"
   ]
  },
  {
   "cell_type": "code",
   "execution_count": 31,
   "id": "c34f91a7",
   "metadata": {},
   "outputs": [],
   "source": [
    "train_seq = pad_sequences(token.texts_to_sequences(sentences_train),\n",
    "                          maxlen= 50, \n",
    "                          padding= 'post', \n",
    "                          truncating= 'post')"
   ]
  },
  {
   "cell_type": "code",
   "execution_count": 32,
   "id": "e3ffc1c0",
   "metadata": {},
   "outputs": [
    {
     "data": {
      "text/plain": [
       "(25757, 50)"
      ]
     },
     "execution_count": 32,
     "metadata": {},
     "output_type": "execute_result"
    }
   ],
   "source": [
    "train_seq.shape"
   ]
  },
  {
   "cell_type": "code",
   "execution_count": 33,
   "id": "6085478a",
   "metadata": {},
   "outputs": [],
   "source": [
    "test_seq = pad_sequences(token.texts_to_sequences(sentences_test),\n",
    "                          maxlen= 50, \n",
    "                          padding= 'post', \n",
    "                          truncating= 'post')"
   ]
  },
  {
   "cell_type": "code",
   "execution_count": 34,
   "id": "3bb521f5",
   "metadata": {},
   "outputs": [
    {
     "data": {
      "text/plain": [
       "(2862, 50)"
      ]
     },
     "execution_count": 34,
     "metadata": {},
     "output_type": "execute_result"
    }
   ],
   "source": [
    "test_seq.shape"
   ]
  },
  {
   "cell_type": "code",
   "execution_count": 35,
   "id": "13356f49",
   "metadata": {},
   "outputs": [],
   "source": [
    "# Convert labels also in array\n",
    "train_label = np.array(labels_train)\n",
    "test_label = np.array(labels_test)"
   ]
  },
  {
   "cell_type": "code",
   "execution_count": 36,
   "id": "3f9c8494",
   "metadata": {},
   "outputs": [
    {
     "data": {
      "text/plain": [
       "array([0, 1, 0, ..., 0, 1, 1])"
      ]
     },
     "execution_count": 36,
     "metadata": {},
     "output_type": "execute_result"
    }
   ],
   "source": [
    "test_label"
   ]
  },
  {
   "cell_type": "code",
   "execution_count": 37,
   "id": "84d9e0cb",
   "metadata": {},
   "outputs": [],
   "source": [
    "# Build a Model"
   ]
  },
  {
   "cell_type": "code",
   "execution_count": 38,
   "id": "040678f6",
   "metadata": {},
   "outputs": [],
   "source": [
    "from tensorflow.keras.models import Sequential\n",
    "from tensorflow.keras.layers import Dense, Dropout, Embedding, GlobalAvgPool1D, Flatten\n"
   ]
  },
  {
   "cell_type": "code",
   "execution_count": 39,
   "id": "4cf21609",
   "metadata": {},
   "outputs": [
    {
     "name": "stdout",
     "output_type": "stream",
     "text": [
      "WARNING:tensorflow:From C:\\Users\\HP\\anaconda3\\Lib\\site-packages\\keras\\src\\backend.py:873: The name tf.get_default_graph is deprecated. Please use tf.compat.v1.get_default_graph instead.\n",
      "\n"
     ]
    }
   ],
   "source": [
    "model = Sequential()"
   ]
  },
  {
   "cell_type": "code",
   "execution_count": 40,
   "id": "85df40ae",
   "metadata": {},
   "outputs": [],
   "source": [
    "# Input Layer\n",
    "model.add(Embedding(10000, input_length= 50, output_dim = 16))\n",
    "model.add(GlobalAvgPool1D())\n",
    "\n",
    "# First Hidden Layer\n",
    "model.add(Dense(128, activation= 'relu'))\n",
    "model.add(Dropout(0.25))\n",
    "\n",
    "# Second Hidden Layer\n",
    "model.add(Dense(64, activation= 'relu'))\n",
    "model.add(Dropout(0.25))\n",
    "\n",
    "# Output Layer\n",
    "model.add(Dense(1, activation= 'sigmoid'))"
   ]
  },
  {
   "cell_type": "code",
   "execution_count": 41,
   "id": "9a1278b5",
   "metadata": {},
   "outputs": [
    {
     "name": "stdout",
     "output_type": "stream",
     "text": [
      "Model: \"sequential\"\n",
      "_________________________________________________________________\n",
      " Layer (type)                Output Shape              Param #   \n",
      "=================================================================\n",
      " embedding (Embedding)       (None, 50, 16)            160000    \n",
      "                                                                 \n",
      " global_average_pooling1d (  (None, 16)                0         \n",
      " GlobalAveragePooling1D)                                         \n",
      "                                                                 \n",
      " dense (Dense)               (None, 128)               2176      \n",
      "                                                                 \n",
      " dropout (Dropout)           (None, 128)               0         \n",
      "                                                                 \n",
      " dense_1 (Dense)             (None, 64)                8256      \n",
      "                                                                 \n",
      " dropout_1 (Dropout)         (None, 64)                0         \n",
      "                                                                 \n",
      " dense_2 (Dense)             (None, 1)                 65        \n",
      "                                                                 \n",
      "=================================================================\n",
      "Total params: 170497 (666.00 KB)\n",
      "Trainable params: 170497 (666.00 KB)\n",
      "Non-trainable params: 0 (0.00 Byte)\n",
      "_________________________________________________________________\n"
     ]
    }
   ],
   "source": [
    "model.summary()"
   ]
  },
  {
   "cell_type": "code",
   "execution_count": 42,
   "id": "311fcb2a",
   "metadata": {},
   "outputs": [
    {
     "name": "stdout",
     "output_type": "stream",
     "text": [
      "WARNING:tensorflow:From C:\\Users\\HP\\anaconda3\\Lib\\site-packages\\keras\\src\\optimizers\\__init__.py:309: The name tf.train.Optimizer is deprecated. Please use tf.compat.v1.train.Optimizer instead.\n",
      "\n"
     ]
    }
   ],
   "source": [
    "# Compile model\n",
    "model.compile(optimizer= 'adam', loss= 'binary_crossentropy', metrics = ['accuracy'])"
   ]
  },
  {
   "cell_type": "code",
   "execution_count": 43,
   "id": "153981a4",
   "metadata": {},
   "outputs": [
    {
     "name": "stdout",
     "output_type": "stream",
     "text": [
      "Epoch 1/10\n",
      "WARNING:tensorflow:From C:\\Users\\HP\\anaconda3\\Lib\\site-packages\\keras\\src\\utils\\tf_utils.py:492: The name tf.ragged.RaggedTensorValue is deprecated. Please use tf.compat.v1.ragged.RaggedTensorValue instead.\n",
      "\n",
      "WARNING:tensorflow:From C:\\Users\\HP\\anaconda3\\Lib\\site-packages\\keras\\src\\engine\\base_layer_utils.py:384: The name tf.executing_eagerly_outside_functions is deprecated. Please use tf.compat.v1.executing_eagerly_outside_functions instead.\n",
      "\n",
      "805/805 [==============================] - 7s 6ms/step - loss: 0.4757 - accuracy: 0.7472 - val_loss: 0.3549 - val_accuracy: 0.8421\n",
      "Epoch 2/10\n",
      "805/805 [==============================] - 4s 5ms/step - loss: 0.2740 - accuracy: 0.8904 - val_loss: 0.3454 - val_accuracy: 0.8487\n",
      "Epoch 3/10\n",
      "805/805 [==============================] - 4s 5ms/step - loss: 0.2169 - accuracy: 0.9179 - val_loss: 0.3878 - val_accuracy: 0.8375\n",
      "Epoch 4/10\n",
      "805/805 [==============================] - 4s 5ms/step - loss: 0.1851 - accuracy: 0.9318 - val_loss: 0.3709 - val_accuracy: 0.8491\n",
      "Epoch 5/10\n",
      "805/805 [==============================] - 4s 5ms/step - loss: 0.1603 - accuracy: 0.9429 - val_loss: 0.3822 - val_accuracy: 0.8438\n",
      "Epoch 6/10\n",
      "805/805 [==============================] - 4s 5ms/step - loss: 0.1426 - accuracy: 0.9501 - val_loss: 0.4180 - val_accuracy: 0.8414\n",
      "Epoch 7/10\n",
      "805/805 [==============================] - 4s 5ms/step - loss: 0.1268 - accuracy: 0.9562 - val_loss: 0.4464 - val_accuracy: 0.8389\n",
      "Epoch 8/10\n",
      "805/805 [==============================] - 4s 5ms/step - loss: 0.1190 - accuracy: 0.9576 - val_loss: 0.5110 - val_accuracy: 0.8358\n",
      "Epoch 9/10\n",
      "805/805 [==============================] - 4s 5ms/step - loss: 0.1103 - accuracy: 0.9621 - val_loss: 0.4939 - val_accuracy: 0.8386\n",
      "Epoch 10/10\n",
      "805/805 [==============================] - 4s 5ms/step - loss: 0.0975 - accuracy: 0.9657 - val_loss: 0.5897 - val_accuracy: 0.8337\n"
     ]
    },
    {
     "data": {
      "text/plain": [
       "<keras.src.callbacks.History at 0x2275cedcd50>"
      ]
     },
     "execution_count": 43,
     "metadata": {},
     "output_type": "execute_result"
    }
   ],
   "source": [
    "# Train the Model\n",
    "model.fit(train_seq, train_label, epochs= 10, validation_data= (test_seq, test_label))"
   ]
  },
  {
   "cell_type": "code",
   "execution_count": 44,
   "id": "82e4f1f4",
   "metadata": {},
   "outputs": [],
   "source": [
    "test = [\"Where are women judges in high courts ?\"]\n",
    "\n",
    "test = pad_sequences(token.texts_to_sequences(test),\n",
    "                          maxlen= 50, \n",
    "                          padding= 'post', \n",
    "                          truncating= 'post')\n"
   ]
  },
  {
   "cell_type": "code",
   "execution_count": 45,
   "id": "4552367d",
   "metadata": {},
   "outputs": [],
   "source": [
    "test1 = [\"soooo intelligent!!!\"]\n",
    "\n",
    "test1 = pad_sequences(token.texts_to_sequences(test1),\n",
    "                          maxlen= 50, \n",
    "                          padding= 'post', \n",
    "                          truncating= 'post')"
   ]
  },
  {
   "cell_type": "code",
   "execution_count": 46,
   "id": "2d88f067",
   "metadata": {},
   "outputs": [
    {
     "name": "stdout",
     "output_type": "stream",
     "text": [
      "1/1 [==============================] - 0s 117ms/step\n"
     ]
    },
    {
     "data": {
      "text/plain": [
       "array([[0.]], dtype=float32)"
      ]
     },
     "execution_count": 46,
     "metadata": {},
     "output_type": "execute_result"
    }
   ],
   "source": [
    "model.predict(test).round()"
   ]
  },
  {
   "cell_type": "code",
   "execution_count": 47,
   "id": "dd881d2d",
   "metadata": {},
   "outputs": [
    {
     "name": "stdout",
     "output_type": "stream",
     "text": [
      "1/1 [==============================] - 0s 30ms/step\n"
     ]
    },
    {
     "data": {
      "text/plain": [
       "array([[1.]], dtype=float32)"
      ]
     },
     "execution_count": 47,
     "metadata": {},
     "output_type": "execute_result"
    }
   ],
   "source": [
    "model.predict(test1).round()"
   ]
  },
  {
   "cell_type": "code",
   "execution_count": null,
   "id": "5766d682",
   "metadata": {},
   "outputs": [],
   "source": []
  }
 ],
 "metadata": {
  "kernelspec": {
   "display_name": "Python 3 (ipykernel)",
   "language": "python",
   "name": "python3"
  },
  "language_info": {
   "codemirror_mode": {
    "name": "ipython",
    "version": 3
   },
   "file_extension": ".py",
   "mimetype": "text/x-python",
   "name": "python",
   "nbconvert_exporter": "python",
   "pygments_lexer": "ipython3",
   "version": "3.11.5"
  }
 },
 "nbformat": 4,
 "nbformat_minor": 5
}
